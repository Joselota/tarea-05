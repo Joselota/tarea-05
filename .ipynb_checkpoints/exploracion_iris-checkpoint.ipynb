{
 "cells": [
  {
   "cell_type": "code",
   "execution_count": 13,
   "id": "0596cff2-a9ea-456a-8594-3536ccdb218c",
   "metadata": {},
   "outputs": [],
   "source": [
    "# importar pandas\n",
    "import pandas as pd"
   ]
  },
  {
   "cell_type": "code",
   "execution_count": 15,
   "id": "5647d5f8-09cc-46e2-92ad-08c3b25cdd7d",
   "metadata": {},
   "outputs": [],
   "source": [
    "# dirección del dataset Iris\n",
    "url = \"https://raw.githubusercontent.com/plotly/datasets/master/iris-data.csv\"\n",
    "df = pd.read_csv(url)"
   ]
  },
  {
   "cell_type": "code",
   "execution_count": 17,
   "id": "df0badfc-de70-4d4f-a6e3-a3f29db92dbe",
   "metadata": {},
   "outputs": [
    {
     "name": "stdout",
     "output_type": "stream",
     "text": [
      "Shape del DataFrame: (150, 5)\n",
      "\n",
      "Primeras 5 filas del DataFrame:\n",
      "   sepal length  sepal width  petal length  petal width        class\n",
      "0           5.1          3.5           1.4          0.2  Iris-setosa\n",
      "1           4.9          3.0           1.4          0.2  Iris-setosa\n",
      "2           4.7          3.2           1.3          0.2  Iris-setosa\n",
      "3           4.6          3.1           1.5          0.2  Iris-setosa\n",
      "4           5.0          3.6           1.4          0.2  Iris-setosa\n"
     ]
    }
   ],
   "source": [
    "# tamaño del DataFrame\n",
    "print(\"Shape del DataFrame:\", df.shape)\n",
    "\n",
    "# mostrar las primeras 5 filas del DataFrame\n",
    "print(\"\\nPrimeras 5 filas del DataFrame:\")\n",
    "print(df.head())"
   ]
  },
  {
   "cell_type": "code",
   "execution_count": 19,
   "id": "aaf8ce28-3ab4-4c41-b1da-16a0978334a0",
   "metadata": {},
   "outputs": [
    {
     "name": "stdout",
     "output_type": "stream",
     "text": [
      "\n",
      "Descripción de las columnas:\n",
      "- sepal_length: Largo del sépalo en centímetros\n",
      "- sepal_width: Ancho del sépalo en centímetros\n",
      "- petal_length: Largo del pétalo en centímetros\n",
      "- petal_width: Ancho del pétalo en centímetros\n",
      "- class: Clase de la flor (Setosa, Versicolor, Virginica)\n",
      "\n",
      "Existencia de valores nulos:\n",
      "sepal length    0\n",
      "sepal width     0\n",
      "petal length    0\n",
      "petal width     0\n",
      "class           0\n",
      "dtype: int64\n",
      "\n",
      "Estadísticas de las columnas numéricas:\n",
      "       sepal length  sepal width  petal length  petal width\n",
      "count    150.000000   150.000000    150.000000   150.000000\n",
      "mean       5.843333     3.054000      3.758667     1.198667\n",
      "std        0.828066     0.433594      1.764420     0.763161\n",
      "min        4.300000     2.000000      1.000000     0.100000\n",
      "25%        5.100000     2.800000      1.600000     0.300000\n",
      "50%        5.800000     3.000000      4.350000     1.300000\n",
      "75%        6.400000     3.300000      5.100000     1.800000\n",
      "max        7.900000     4.400000      6.900000     2.500000\n",
      "\n",
      "Número de filas para cada clase de flor:\n",
      "class\n",
      "Iris-setosa        50\n",
      "Iris-versicolor    50\n",
      "Iris-virginica     50\n",
      "Name: count, dtype: int64\n"
     ]
    }
   ],
   "source": [
    "############################\n",
    "# Describiendo el dataset\n",
    "############################\n",
    "\n",
    "columnas_descripcion = {\n",
    "    \"sepal_length\": \"Largo del sépalo en centímetros\",\n",
    "    \"sepal_width\" : \"Ancho del sépalo en centímetros\",\n",
    "    \"petal_length\": \"Largo del pétalo en centímetros\",\n",
    "    \"petal_width\" : \"Ancho del pétalo en centímetros\",\n",
    "    \"class\"       : \"Clase de la flor (Setosa, Versicolor, Virginica)\"\n",
    "}\n",
    "\n",
    "# Mostrando la descripción de las columnas y qué representa cada una de ellas\n",
    "print(\"\\nDescripción de las columnas:\")\n",
    "for col, desc in columnas_descripcion.items():\n",
    "    print(f\"- {col}: {desc}\")\n",
    "\n",
    "# Chequeando si existen valores nulos\n",
    "print(\"\\nExistencia de valores nulos:\")\n",
    "print(df.isnull().sum())\n",
    "\n",
    "# Estadísticas de cada columna numérica\n",
    "print(\"\\nEstadísticas de las columnas numéricas:\")\n",
    "print(df.describe())\n",
    "\n",
    "# Cuantas filas existen para cada clase de flor\n",
    "print(\"\\nNúmero de filas para cada clase de flor:\")\n",
    "print(df['class'].value_counts())"
   ]
  },
  {
   "cell_type": "code",
   "execution_count": null,
   "id": "f6d3697b-e327-4ca2-aff2-4d054c2d3171",
   "metadata": {},
   "outputs": [],
   "source": []
  }
 ],
 "metadata": {
  "kernelspec": {
   "display_name": "Python 3 (ipykernel)",
   "language": "python",
   "name": "python3"
  },
  "language_info": {
   "codemirror_mode": {
    "name": "ipython",
    "version": 3
   },
   "file_extension": ".py",
   "mimetype": "text/x-python",
   "name": "python",
   "nbconvert_exporter": "python",
   "pygments_lexer": "ipython3",
   "version": "3.11.7"
  }
 },
 "nbformat": 4,
 "nbformat_minor": 5
}
